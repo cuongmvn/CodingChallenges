{
 "cells": [
  {
   "cell_type": "code",
   "execution_count": 1,
   "id": "24d55db4",
   "metadata": {},
   "outputs": [],
   "source": [
    "import numpy as np"
   ]
  },
  {
   "cell_type": "code",
   "execution_count": 130,
   "id": "7b221c2e",
   "metadata": {},
   "outputs": [],
   "source": [
    "def read_data(file_path):\n",
    "    CName = []\n",
    "    PInfo = []\n",
    "    CSkills = []\n",
    "    PSkills = []\n",
    "    f = open(file_path,\"r\")\n",
    "\n",
    "    #with open (\"b_better_start_small.in.txt\", \"r\") as f:\n",
    "### N - number of contributors, M - number of Projects        \n",
    "    line=f.readline()\n",
    "    line=line.rstrip().split(\" \")\n",
    "    N,M = int(line[0]),int(line[1])\n",
    "        \n",
    "    for i in range(N):\n",
    "        line = f.readline()\n",
    "        line = line.rstrip().split(\" \")\n",
    "        name, no_skills = line[0], int(line[1])\n",
    "        CName.append([name, no_skills])\n",
    "            \n",
    "        Skills = []\n",
    "        for j in  range(no_skills):    \n",
    "            line = f.readline()\n",
    "            line = line.rstrip().split(\" \")\n",
    "            Skills.append([line[0],int(line[1])])\n",
    "        CSkills.append(Skills)\n",
    "    \n",
    "    for i in range(M):\n",
    "        line = f.readline()\n",
    "        line = line.rstrip().split(\" \")\n",
    "        name, duration, score, deadline, no_skills = line[0], int(line[1]),int(line[2]),int(line[3]),int(line[4])\n",
    "        PInfo.append([name, no_skills, duration, score, deadline])\n",
    "            \n",
    "        Skills = []\n",
    "        for j in  range(no_skills):    \n",
    "            line = f.readline()\n",
    "            line = line.rstrip().split(\" \")\n",
    "            Skills.append([line[0],int(line[1])])\n",
    "        PSkills.append(Skills)\n",
    "        \n",
    "    return N,M, CName, CSkills, PInfo, PSkills"
   ]
  },
  {
   "cell_type": "code",
   "execution_count": 131,
   "id": "b71cc357",
   "metadata": {},
   "outputs": [],
   "source": [
    "N,M, C, CS, P, PS = read_data(\"b_better_start_small.in.txt\")"
   ]
  },
  {
   "cell_type": "code",
   "execution_count": 132,
   "id": "443ec98b",
   "metadata": {},
   "outputs": [
    {
     "data": {
      "text/plain": [
       "[['StadiaNextv9', 10, 20, 16813, 763],\n",
       " ['SlidesNextv2', 2, 20, 7950, 259],\n",
       " ['WearOSProv2', 9, 19, 22883, 683],\n",
       " ['CollectionsNextv1', 4, 11, 8246, 826],\n",
       " ['GlassOSSv3', 2, 16, 6354, 984],\n",
       " ['StreamXv9', 1, 18, 1518, 283],\n",
       " ['MoonMaxv4', 10, 12, 11001, 690],\n",
       " ['CastOSProv6', 1, 10, 1817, 882],\n",
       " ['ShoppingProv8', 2, 20, 3110, 295],\n",
       " ['AndroidTVNextv1', 8, 13, 12497, 337],\n",
       " ['MapsUltrav3', 3, 11, 5673, 823],\n",
       " ['ExploreUltrav8', 7, 13, 16882, 492],\n",
       " ['ChromeNextv7', 3, 14, 8381, 459],\n",
       " ['ClassroomMaxv2', 2, 12, 3836, 863],\n",
       " ['StreamXv6', 5, 12, 12240, 711],\n",
       " ['DocsNextv2', 3, 14, 4373, 626],\n",
       " ['BuildMaxv1', 5, 12, 6712, 707],\n",
       " ['DrawingsXv6', 10, 16, 14686, 515],\n",
       " ['GameProv3', 1, 15, 1732, 400],\n",
       " ['ShortsNextv7', 3, 11, 2957, 582],\n",
       " ['DuoLitev3', 6, 19, 17561, 304],\n",
       " ['GmailSv4', 2, 18, 5166, 352],\n",
       " ['SearchNextv1', 5, 20, 8768, 906],\n",
       " ['WearOSLitev5', 5, 15, 16854, 296],\n",
       " ['LoggingLitev6', 10, 14, 11633, 528],\n",
       " ['DaydreamLitev7', 1, 12, 2202, 535],\n",
       " ['BloggerNextv8', 4, 19, 14306, 467],\n",
       " ['MapsProv8', 3, 18, 9450, 831],\n",
       " ['ChatProv6', 9, 18, 29023, 377],\n",
       " ['FeedBurnerNextv3', 7, 16, 22221, 302],\n",
       " ['ConnectLitev9', 1, 12, 1191, 448],\n",
       " ['AndroidTVXv9', 4, 10, 4199, 542],\n",
       " ['CollectionsZv7', 7, 16, 14477, 282],\n",
       " ['StadiaZv2', 6, 17, 18257, 991],\n",
       " ['KeepXv5', 3, 17, 7932, 977],\n",
       " ['GameProv6', 3, 13, 7306, 936],\n",
       " ['ChromeOSLitev3', 3, 14, 4455, 810],\n",
       " ['SitesUltrav5', 8, 18, 29943, 837],\n",
       " ['MarsXv1', 4, 10, 3676, 549],\n",
       " ['StreetViewProv9', 8, 12, 13693, 328],\n",
       " ['GlassOSProv9', 7, 19, 14751, 811],\n",
       " ['FeedBurnerMaxv3', 2, 12, 4572, 547],\n",
       " ['AndroidTVMaxv5', 3, 14, 5055, 909],\n",
       " ['DuoZv2', 3, 18, 10817, 832],\n",
       " ['CalendarProv3', 10, 19, 19634, 846],\n",
       " ['StadiaZv1', 4, 14, 11728, 754],\n",
       " ['CastOSNextv8', 8, 19, 31519, 372],\n",
       " ['ResearchUltrav8', 7, 20, 29968, 307],\n",
       " ['CalendarNextv8', 2, 16, 6002, 892],\n",
       " ['WebserverProv4', 9, 12, 21563, 307],\n",
       " ['YouTubeZv2', 7, 17, 15521, 769],\n",
       " ['SkySv8', 7, 17, 18244, 715],\n",
       " ['ResearchXv8', 5, 14, 12213, 394],\n",
       " ['ReleaseUltrav1', 2, 15, 3808, 865],\n",
       " ['MapsSv7', 10, 12, 21465, 836],\n",
       " ['ChromecastXv8', 2, 19, 5584, 708],\n",
       " ['DreamSv2', 6, 18, 12473, 698],\n",
       " ['SlidesUltrav7', 7, 13, 8118, 509],\n",
       " ['PhoneUltrav1', 5, 20, 12964, 583],\n",
       " ['SitesSv1', 2, 14, 4734, 394],\n",
       " ['SmartSv2', 5, 16, 13742, 774],\n",
       " ['VideoUltrav1', 8, 12, 11830, 353],\n",
       " ['AndroidAutoZv2', 5, 18, 10769, 345],\n",
       " ['StreetViewXv1', 3, 15, 9960, 486],\n",
       " ['PhoneXv6', 8, 15, 11003, 300],\n",
       " ['AlertsLitev7', 4, 19, 11882, 727],\n",
       " ['SnapshotZv3', 6, 12, 11622, 504],\n",
       " ['ChromeOSUltrav5', 6, 13, 7065, 743],\n",
       " ['SmartLitev9', 3, 16, 5493, 691],\n",
       " ['GameLitev8', 4, 19, 12336, 865],\n",
       " ['DatasetSearchNextv1', 7, 13, 17493, 928],\n",
       " ['DriveZv9', 3, 13, 8585, 325],\n",
       " ['PhotoProv3', 7, 18, 15916, 358],\n",
       " ['VoiceProv8', 5, 18, 11801, 839],\n",
       " ['DataZv2', 8, 19, 22091, 522],\n",
       " ['SkyLitev6', 3, 11, 5120, 565],\n",
       " ['AssistantUltrav2', 6, 13, 9128, 573],\n",
       " ['DuoZv4', 7, 19, 14968, 682],\n",
       " ['GmailLitev9', 10, 13, 27535, 924],\n",
       " ['ChatSv4', 4, 12, 5887, 771],\n",
       " ['MarsLitev5', 2, 11, 4829, 698],\n",
       " ['SantaTrackerXv4', 10, 20, 29038, 341],\n",
       " ['ChatXv5', 10, 14, 27039, 999],\n",
       " ['MarsUltrav8', 9, 15, 28250, 657],\n",
       " ['CastOSXv6', 7, 18, 16203, 262],\n",
       " ['CultureProv7', 8, 19, 17371, 458],\n",
       " ['PhoneLitev3', 2, 16, 2655, 329],\n",
       " ['CastOSLitev5', 4, 19, 6915, 302],\n",
       " ['ChartsProv9', 10, 16, 34449, 661],\n",
       " ['StreetViewUltrav4', 3, 10, 4931, 271],\n",
       " ['BuildLitev6', 10, 17, 36807, 933],\n",
       " ['DuoMaxv1', 5, 17, 18203, 314],\n",
       " ['GlassOSLitev9', 6, 15, 10858, 840],\n",
       " ['StreetViewNextv3', 3, 17, 7999, 899],\n",
       " ['FuchsiaLitev6', 7, 15, 20428, 582],\n",
       " ['FuchsiaXv6', 2, 18, 4156, 938],\n",
       " ['ExploreMaxv4', 9, 16, 11385, 852],\n",
       " ['WebserverProv6', 1, 13, 2316, 826],\n",
       " ['FeedBurnerMaxv1', 4, 10, 3967, 658],\n",
       " ['AlertsUltrav2', 9, 13, 24941, 649]]"
      ]
     },
     "execution_count": 132,
     "metadata": {},
     "output_type": "execute_result"
    }
   ],
   "source": [
    "P"
   ]
  },
  {
   "cell_type": "code",
   "execution_count": 133,
   "id": "8ebeece2",
   "metadata": {},
   "outputs": [],
   "source": [
    "def Skill_extraction(Skills_of_People):\n",
    "    s = {}\n",
    "    k=0\n",
    "    for Skills_eachPerson in Skills_of_People:\n",
    "        for skill in Skills_eachPerson:\n",
    "            if skill[0] not in s:\n",
    "                s[skill[0]] = k\n",
    "                k = k + 1\n",
    "    return s"
   ]
  },
  {
   "cell_type": "code",
   "execution_count": 134,
   "id": "36bb6c8c",
   "metadata": {},
   "outputs": [],
   "source": [
    "s = Skill_extraction(CS)\n",
    "K = len(s)"
   ]
  },
  {
   "cell_type": "code",
   "execution_count": 135,
   "id": "d9e77dfb",
   "metadata": {},
   "outputs": [],
   "source": [
    "def vectorlizeSkills(personSkills,s_dict):\n",
    "    v = np.zeros([len(s_dict)], dtype=\"int32\")\n",
    "    for skill in personSkills:\n",
    "        v[s_dict[skill[0]]] = skill[1]\n",
    "    return v"
   ]
  },
  {
   "cell_type": "code",
   "execution_count": 136,
   "id": "dc4ebc89",
   "metadata": {},
   "outputs": [],
   "source": [
    "s = Skill_extraction(CS)\n",
    "V1 = [[vectorlizeSkills(CS[i],s),i] for i in range(len(CS))]"
   ]
  },
  {
   "cell_type": "code",
   "execution_count": 35,
   "id": "7e4d346f",
   "metadata": {},
   "outputs": [
    {
     "data": {
      "text/plain": [
       "array([4, 0, 0, 0, 0, 0, 0, 0, 0, 0, 0, 0, 0, 0, 0, 0, 0, 0, 0, 0, 0, 0,\n",
       "       0, 0, 0, 0, 0, 0, 0, 0, 0, 0, 0, 0, 0, 0])"
      ]
     },
     "execution_count": 35,
     "metadata": {},
     "output_type": "execute_result"
    }
   ],
   "source": [
    "V1[0][0]"
   ]
  },
  {
   "cell_type": "code",
   "execution_count": 137,
   "id": "d59dd316",
   "metadata": {},
   "outputs": [],
   "source": [
    "def Cando(Vector_Skills,skill,level):\n",
    "    return (Vector_Skills[skill] >= level)"
   ]
  },
  {
   "cell_type": "code",
   "execution_count": 138,
   "id": "e22f6b91",
   "metadata": {},
   "outputs": [],
   "source": [
    "def PossibleCandidate(C, skill, level):\n",
    "    P = []\n",
    "    for c in C:\n",
    "        if Cando(c[0], skill, level):\n",
    "            P.append(c[1])\n",
    "    return P"
   ]
  },
  {
   "cell_type": "code",
   "execution_count": 60,
   "id": "08605a1b",
   "metadata": {},
   "outputs": [
    {
     "data": {
      "text/plain": [
       "[0, 47]"
      ]
     },
     "execution_count": 60,
     "metadata": {},
     "output_type": "execute_result"
    }
   ],
   "source": [
    "PossibleCandidate(V1,0,1)"
   ]
  },
  {
   "cell_type": "code",
   "execution_count": 61,
   "id": "f6086901",
   "metadata": {},
   "outputs": [
    {
     "data": {
      "text/plain": [
       "[['MySQL', 3],\n",
       " ['TechWriting-js', 6],\n",
       " ['Go-NET', 9],\n",
       " ['Blockchain', 6],\n",
       " ['JavaScript-2+0', 3],\n",
       " ['Ajax-3+0', 10],\n",
       " ['Blockchain', 9],\n",
       " ['BusinessAnalysis-lib', 6],\n",
       " ['Haskell', 3],\n",
       " ['MATLAB', 4]]"
      ]
     },
     "execution_count": 61,
     "metadata": {},
     "output_type": "execute_result"
    }
   ],
   "source": [
    "PS[0]"
   ]
  },
  {
   "cell_type": "code",
   "execution_count": 139,
   "id": "b6e07299",
   "metadata": {},
   "outputs": [],
   "source": [
    "def assign(project,L,s):\n",
    "    team = []\n",
    "    possible = True\n",
    "    role = 0\n",
    "    while possible == True and role < len(project):\n",
    "        skill, level = project[role]\n",
    "        if skill not in s:\n",
    "            possible = False\n",
    "            break\n",
    "        plist = PossibleCandidate(L,s[skill],level)\n",
    "        if len(plist)==0:\n",
    "            possible = False\n",
    "            break\n",
    "        i = 0\n",
    "        possible = False\n",
    "        while i < len(plist):\n",
    "            if plist[i] not in team:\n",
    "                team.append(plist[i])\n",
    "                possible = True\n",
    "                break\n",
    "            i +=1\n",
    "        \n",
    "        role +=1\n",
    "    if possible == False:\n",
    "        return -1\n",
    "    else:\n",
    "        return team"
   ]
  },
  {
   "cell_type": "code",
   "execution_count": 98,
   "id": "15ad9cd6",
   "metadata": {},
   "outputs": [
    {
     "data": {
      "text/plain": [
       "-1"
      ]
     },
     "execution_count": 98,
     "metadata": {},
     "output_type": "execute_result"
    }
   ],
   "source": [
    "assign(PS[6],V1,s)"
   ]
  },
  {
   "cell_type": "code",
   "execution_count": 129,
   "id": "356ce108",
   "metadata": {},
   "outputs": [],
   "source": [
    "Output = [assign(p,V1,s) for p in PS]"
   ]
  },
  {
   "cell_type": "code",
   "execution_count": 130,
   "id": "4ff9a9be",
   "metadata": {},
   "outputs": [
    {
     "data": {
      "text/plain": [
       "38"
      ]
     },
     "execution_count": 130,
     "metadata": {},
     "output_type": "execute_result"
    }
   ],
   "source": [
    "len(Output) - Output.count(-1)"
   ]
  },
  {
   "cell_type": "code",
   "execution_count": 131,
   "id": "b33ada02",
   "metadata": {},
   "outputs": [
    {
     "data": {
      "text/plain": [
       "[-1,\n",
       " [43, 37],\n",
       " -1,\n",
       " -1,\n",
       " -1,\n",
       " [13],\n",
       " -1,\n",
       " [30],\n",
       " [49, 48],\n",
       " -1,\n",
       " -1,\n",
       " [30, 41, 2, 32, 11, 25, 5],\n",
       " [2, 30, 44],\n",
       " [17, 25],\n",
       " [3, 9, 10, 41, 11],\n",
       " [27, 9, 31],\n",
       " [23, 8, 45, 14, 2],\n",
       " -1,\n",
       " [44],\n",
       " [22, 44, 32],\n",
       " -1,\n",
       " -1,\n",
       " -1,\n",
       " [45, 30, 17, 9, 48],\n",
       " -1,\n",
       " [3],\n",
       " -1,\n",
       " [21, 18, 30],\n",
       " -1,\n",
       " -1,\n",
       " [15],\n",
       " -1,\n",
       " -1,\n",
       " -1,\n",
       " -1,\n",
       " [13, 25, 7],\n",
       " [6, 21, 44],\n",
       " -1,\n",
       " [32, 11, 23, 0],\n",
       " [15, 20, 5, 46, 9, 29, 45, 13],\n",
       " -1,\n",
       " [17, 13],\n",
       " [32, 27, 29],\n",
       " [44, 27, 22],\n",
       " -1,\n",
       " -1,\n",
       " -1,\n",
       " -1,\n",
       " -1,\n",
       " -1,\n",
       " -1,\n",
       " -1,\n",
       " [27, 41, 3, 9, 5],\n",
       " [11, 30],\n",
       " [15, 29, 22, 13, 41, 34, 46, 4, 5, 30],\n",
       " -1,\n",
       " -1,\n",
       " -1,\n",
       " -1,\n",
       " [1, 31],\n",
       " [22, 3, 29, 33, 49],\n",
       " -1,\n",
       " [37, 9, 48, 4, 1],\n",
       " [17, 9, 22],\n",
       " -1,\n",
       " -1,\n",
       " -1,\n",
       " -1,\n",
       " [43, 34, 6],\n",
       " [6, 29, 46, 10],\n",
       " -1,\n",
       " -1,\n",
       " -1,\n",
       " -1,\n",
       " -1,\n",
       " -1,\n",
       " -1,\n",
       " [34, 27, 4, 11, 29, 8, 42],\n",
       " -1,\n",
       " -1,\n",
       " [30, 17],\n",
       " -1,\n",
       " -1,\n",
       " [48, 1, 25, 6, 7, 33, 8, 14, 46],\n",
       " -1,\n",
       " -1,\n",
       " -1,\n",
       " -1,\n",
       " -1,\n",
       " -1,\n",
       " -1,\n",
       " -1,\n",
       " [11, 14, 15, 29, 32, 37],\n",
       " -1,\n",
       " -1,\n",
       " [2, 15],\n",
       " -1,\n",
       " [6],\n",
       " -1,\n",
       " -1]"
      ]
     },
     "execution_count": 131,
     "metadata": {},
     "output_type": "execute_result"
    }
   ],
   "source": [
    "Output"
   ]
  },
  {
   "cell_type": "code",
   "execution_count": 101,
   "id": "49c42afc",
   "metadata": {},
   "outputs": [
    {
     "data": {
      "text/plain": [
       "[['StadiaNextv9', 10, 20, 16813, 763],\n",
       " ['SlidesNextv2', 2, 20, 7950, 259],\n",
       " ['WearOSProv2', 9, 19, 22883, 683],\n",
       " ['CollectionsNextv1', 4, 11, 8246, 826],\n",
       " ['GlassOSSv3', 2, 16, 6354, 984],\n",
       " ['StreamXv9', 1, 18, 1518, 283],\n",
       " ['MoonMaxv4', 10, 12, 11001, 690],\n",
       " ['CastOSProv6', 1, 10, 1817, 882],\n",
       " ['ShoppingProv8', 2, 20, 3110, 295],\n",
       " ['AndroidTVNextv1', 8, 13, 12497, 337],\n",
       " ['MapsUltrav3', 3, 11, 5673, 823],\n",
       " ['ExploreUltrav8', 7, 13, 16882, 492],\n",
       " ['ChromeNextv7', 3, 14, 8381, 459],\n",
       " ['ClassroomMaxv2', 2, 12, 3836, 863],\n",
       " ['StreamXv6', 5, 12, 12240, 711],\n",
       " ['DocsNextv2', 3, 14, 4373, 626],\n",
       " ['BuildMaxv1', 5, 12, 6712, 707],\n",
       " ['DrawingsXv6', 10, 16, 14686, 515],\n",
       " ['GameProv3', 1, 15, 1732, 400],\n",
       " ['ShortsNextv7', 3, 11, 2957, 582],\n",
       " ['DuoLitev3', 6, 19, 17561, 304],\n",
       " ['GmailSv4', 2, 18, 5166, 352],\n",
       " ['SearchNextv1', 5, 20, 8768, 906],\n",
       " ['WearOSLitev5', 5, 15, 16854, 296],\n",
       " ['LoggingLitev6', 10, 14, 11633, 528],\n",
       " ['DaydreamLitev7', 1, 12, 2202, 535],\n",
       " ['BloggerNextv8', 4, 19, 14306, 467],\n",
       " ['MapsProv8', 3, 18, 9450, 831],\n",
       " ['ChatProv6', 9, 18, 29023, 377],\n",
       " ['FeedBurnerNextv3', 7, 16, 22221, 302],\n",
       " ['ConnectLitev9', 1, 12, 1191, 448],\n",
       " ['AndroidTVXv9', 4, 10, 4199, 542],\n",
       " ['CollectionsZv7', 7, 16, 14477, 282],\n",
       " ['StadiaZv2', 6, 17, 18257, 991],\n",
       " ['KeepXv5', 3, 17, 7932, 977],\n",
       " ['GameProv6', 3, 13, 7306, 936],\n",
       " ['ChromeOSLitev3', 3, 14, 4455, 810],\n",
       " ['SitesUltrav5', 8, 18, 29943, 837],\n",
       " ['MarsXv1', 4, 10, 3676, 549],\n",
       " ['StreetViewProv9', 8, 12, 13693, 328],\n",
       " ['GlassOSProv9', 7, 19, 14751, 811],\n",
       " ['FeedBurnerMaxv3', 2, 12, 4572, 547],\n",
       " ['AndroidTVMaxv5', 3, 14, 5055, 909],\n",
       " ['DuoZv2', 3, 18, 10817, 832],\n",
       " ['CalendarProv3', 10, 19, 19634, 846],\n",
       " ['StadiaZv1', 4, 14, 11728, 754],\n",
       " ['CastOSNextv8', 8, 19, 31519, 372],\n",
       " ['ResearchUltrav8', 7, 20, 29968, 307],\n",
       " ['CalendarNextv8', 2, 16, 6002, 892],\n",
       " ['WebserverProv4', 9, 12, 21563, 307],\n",
       " ['YouTubeZv2', 7, 17, 15521, 769],\n",
       " ['SkySv8', 7, 17, 18244, 715],\n",
       " ['ResearchXv8', 5, 14, 12213, 394],\n",
       " ['ReleaseUltrav1', 2, 15, 3808, 865],\n",
       " ['MapsSv7', 10, 12, 21465, 836],\n",
       " ['ChromecastXv8', 2, 19, 5584, 708],\n",
       " ['DreamSv2', 6, 18, 12473, 698],\n",
       " ['SlidesUltrav7', 7, 13, 8118, 509],\n",
       " ['PhoneUltrav1', 5, 20, 12964, 583],\n",
       " ['SitesSv1', 2, 14, 4734, 394],\n",
       " ['SmartSv2', 5, 16, 13742, 774],\n",
       " ['VideoUltrav1', 8, 12, 11830, 353],\n",
       " ['AndroidAutoZv2', 5, 18, 10769, 345],\n",
       " ['StreetViewXv1', 3, 15, 9960, 486],\n",
       " ['PhoneXv6', 8, 15, 11003, 300],\n",
       " ['AlertsLitev7', 4, 19, 11882, 727],\n",
       " ['SnapshotZv3', 6, 12, 11622, 504],\n",
       " ['ChromeOSUltrav5', 6, 13, 7065, 743],\n",
       " ['SmartLitev9', 3, 16, 5493, 691],\n",
       " ['GameLitev8', 4, 19, 12336, 865],\n",
       " ['DatasetSearchNextv1', 7, 13, 17493, 928],\n",
       " ['DriveZv9', 3, 13, 8585, 325],\n",
       " ['PhotoProv3', 7, 18, 15916, 358],\n",
       " ['VoiceProv8', 5, 18, 11801, 839],\n",
       " ['DataZv2', 8, 19, 22091, 522],\n",
       " ['SkyLitev6', 3, 11, 5120, 565],\n",
       " ['AssistantUltrav2', 6, 13, 9128, 573],\n",
       " ['DuoZv4', 7, 19, 14968, 682],\n",
       " ['GmailLitev9', 10, 13, 27535, 924],\n",
       " ['ChatSv4', 4, 12, 5887, 771],\n",
       " ['MarsLitev5', 2, 11, 4829, 698],\n",
       " ['SantaTrackerXv4', 10, 20, 29038, 341],\n",
       " ['ChatXv5', 10, 14, 27039, 999],\n",
       " ['MarsUltrav8', 9, 15, 28250, 657],\n",
       " ['CastOSXv6', 7, 18, 16203, 262],\n",
       " ['CultureProv7', 8, 19, 17371, 458],\n",
       " ['PhoneLitev3', 2, 16, 2655, 329],\n",
       " ['CastOSLitev5', 4, 19, 6915, 302],\n",
       " ['ChartsProv9', 10, 16, 34449, 661],\n",
       " ['StreetViewUltrav4', 3, 10, 4931, 271],\n",
       " ['BuildLitev6', 10, 17, 36807, 933],\n",
       " ['DuoMaxv1', 5, 17, 18203, 314],\n",
       " ['GlassOSLitev9', 6, 15, 10858, 840],\n",
       " ['StreetViewNextv3', 3, 17, 7999, 899],\n",
       " ['FuchsiaLitev6', 7, 15, 20428, 582],\n",
       " ['FuchsiaXv6', 2, 18, 4156, 938],\n",
       " ['ExploreMaxv4', 9, 16, 11385, 852],\n",
       " ['WebserverProv6', 1, 13, 2316, 826],\n",
       " ['FeedBurnerMaxv1', 4, 10, 3967, 658],\n",
       " ['AlertsUltrav2', 9, 13, 24941, 649]]"
      ]
     },
     "execution_count": 101,
     "metadata": {},
     "output_type": "execute_result"
    }
   ],
   "source": [
    "P"
   ]
  },
  {
   "cell_type": "code",
   "execution_count": 132,
   "id": "5a2640ea",
   "metadata": {},
   "outputs": [],
   "source": [
    "out = open(\"b.out.txt\", \"w\")\n",
    "n = len(Output) - Output.count(-1)\n",
    "out.write( str(n) + \"\\n\")\n",
    "for i in range(len(Output)):\n",
    "    if Output[i] !=-1:\n",
    "        out.write(P[i][0]+\"\\n\")\n",
    "        for j in range(len(Output[i])):\n",
    "            if j == len(Output[i])-1:\n",
    "                out.write(C[Output[i][j]][0]+\"\\n\")\n",
    "            else:\n",
    "                out.write(C[Output[i][j]][0]+\" \")         \n",
    "out.close()"
   ]
  },
  {
   "cell_type": "code",
   "execution_count": 140,
   "id": "1531cb53",
   "metadata": {},
   "outputs": [],
   "source": [
    "def WriteAnswer(Output,C,P, filepath):\n",
    "    out = open(filepath, \"w\")\n",
    "    n = len(Output) - Output.count(-1)\n",
    "    out.write( str(n) + \"\\n\")\n",
    "    for i in range(len(Output)):\n",
    "        if Output[i] !=-1:\n",
    "            out.write(P[i][0]+\"\\n\")\n",
    "            for j in range(len(Output[i])):\n",
    "                if j == len(Output[i])-1:\n",
    "                    out.write(C[Output[i][j]][0]+\"\\n\")\n",
    "                else:\n",
    "                    out.write(C[Output[i][j]][0]+\" \")         \n",
    "    out.close()"
   ]
  },
  {
   "cell_type": "code",
   "execution_count": 140,
   "id": "2d09a327",
   "metadata": {},
   "outputs": [],
   "source": [
    "input_file = \"f.in.txt\"\n",
    "N, M, C, CS, P, PS = read_data(input_file)\n",
    "s = Skill_extraction(CS)\n",
    "\n",
    "V1 = [[vectorlizeSkills(CS[i],s),i] for i in range(len(CS))]\n",
    "\n",
    "Output = [assign(p,V1,s) for p in PS]\n",
    "\n",
    "WriteAnswer(Output,C,P,\"f.out.txt\")"
   ]
  },
  {
   "cell_type": "markdown",
   "id": "f9793f37",
   "metadata": {},
   "source": [
    "# Improvement"
   ]
  },
  {
   "cell_type": "code",
   "execution_count": 88,
   "id": "c90ccc79",
   "metadata": {},
   "outputs": [],
   "source": [
    "import pandas as pd"
   ]
  },
  {
   "cell_type": "code",
   "execution_count": 146,
   "id": "5651cae2",
   "metadata": {},
   "outputs": [],
   "source": [
    "Project_df = pd.DataFrame(np.array(P),\n",
    "\n",
    "                   columns=['name', 'duration', 'score','deadline','skills'])\n",
    "Project_df = Project_df.astype({'duration': int, 'score':int, 'deadline':int, 'skills':int})\n",
    "Project_df.sort_values(by = ['deadline'])\n",
    "Pdf1 = Project_df.sort_values(by = ['deadline'])\n",
    "order = Pdf1.index"
   ]
  },
  {
   "cell_type": "code",
   "execution_count": 149,
   "id": "4a080f21",
   "metadata": {},
   "outputs": [
    {
     "data": {
      "text/plain": [
       "Int64Index([10830, 13912, 12856, 17338,  2339,  9151,  3498,  7840,  7824,\n",
       "            18752,\n",
       "            ...\n",
       "            10493, 10206, 17398, 12805,  3984, 11615, 17494,  8116, 19277,\n",
       "            17908],\n",
       "           dtype='int64', length=19413)"
      ]
     },
     "execution_count": 149,
     "metadata": {},
     "output_type": "execute_result"
    }
   ],
   "source": [
    "order+1"
   ]
  },
  {
   "cell_type": "code",
   "execution_count": 152,
   "id": "5e5e40e1",
   "metadata": {},
   "outputs": [],
   "source": [
    "input_file = \"e.in.txt\"\n",
    "N, M, C, CS, P, PS = read_data(input_file)\n",
    "s = Skill_extraction(CS)\n",
    "\n",
    "V1 = [[vectorlizeSkills(CS[i],s),i] for i in range(len(CS))]\n",
    "\n",
    "Project_df = pd.DataFrame(np.array(P),\n",
    "\n",
    "                   columns=['name', 'duration', 'score','deadline','skills'])\n",
    "Project_df = Project_df.astype({'duration': int, 'score':int, 'deadline':int, 'skills':int})\n",
    "Project_df.sort_values(by = ['deadline'])\n",
    "Pdf1 = Project_df.sort_values(by = ['deadline'])\n",
    "order = Pdf1.index\n",
    "\n",
    "Output = [assign(PS[i],V1,s) for i in order]\n",
    "\n",
    "WriteAnswer2(Output,C,P,order,\"e2.out.txt\")"
   ]
  },
  {
   "cell_type": "code",
   "execution_count": 150,
   "id": "81f9b719",
   "metadata": {},
   "outputs": [],
   "source": [
    "def WriteAnswer2(Output,C,P,order, filepath):\n",
    "    out = open(filepath, \"w\")\n",
    "    n = len(Output) - Output.count(-1)\n",
    "    out.write( str(n) + \"\\n\")\n",
    "    for i in range(len(Output)):\n",
    "        if Output[i] !=-1:\n",
    "            out.write(P[order[i]][0]+\"\\n\")\n",
    "            for j in range(len(Output[i])):\n",
    "                if j == len(Output[i])-1:\n",
    "                    out.write(C[Output[i][j]][0]+\"\\n\")\n",
    "                else:\n",
    "                    out.write(C[Output[i][j]][0]+\" \")         \n",
    "    out.close()"
   ]
  },
  {
   "cell_type": "code",
   "execution_count": null,
   "id": "d78fb14d",
   "metadata": {},
   "outputs": [],
   "source": []
  }
 ],
 "metadata": {
  "kernelspec": {
   "display_name": "Python 3",
   "language": "python",
   "name": "python3"
  },
  "language_info": {
   "codemirror_mode": {
    "name": "ipython",
    "version": 3
   },
   "file_extension": ".py",
   "mimetype": "text/x-python",
   "name": "python",
   "nbconvert_exporter": "python",
   "pygments_lexer": "ipython3",
   "version": "3.8.8"
  }
 },
 "nbformat": 4,
 "nbformat_minor": 5
}
